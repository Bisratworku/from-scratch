{
 "cells": [
  {
   "cell_type": "code",
   "execution_count": 1,
   "id": "96759e59",
   "metadata": {},
   "outputs": [],
   "source": [
    "from scratch import *\n",
    "import random\n",
    "import numpy as np\n",
    "import matplotlib.pyplot as plt\n",
    "import os\n",
    "from PIL import Image"
   ]
  },
  {
   "cell_type": "code",
   "execution_count": 2,
   "id": "09164a03",
   "metadata": {},
   "outputs": [
    {
     "data": {
      "text/plain": [
       "'datasets\\\\fashion_mnist_images'"
      ]
     },
     "execution_count": 2,
     "metadata": {},
     "output_type": "execute_result"
    }
   ],
   "source": [
    "folder = \"datasets\\\\fashion_mnist_images\"\n",
    "folder"
   ]
  },
  {
   "cell_type": "code",
   "execution_count": 3,
   "id": "329cca94",
   "metadata": {},
   "outputs": [
    {
     "data": {
      "text/plain": [
       "['0', '1', '2', '3', '4', '5', '6', '7', '8', '9']"
      ]
     },
     "execution_count": 3,
     "metadata": {},
     "output_type": "execute_result"
    }
   ],
   "source": [
    "label = os.listdir(os.path.join(folder, \"train\"))\n",
    "label"
   ]
  },
  {
   "cell_type": "code",
   "execution_count": 4,
   "id": "efe88256",
   "metadata": {},
   "outputs": [
    {
     "data": {
      "text/plain": [
       "'0000.png'"
      ]
     },
     "execution_count": 4,
     "metadata": {},
     "output_type": "execute_result"
    }
   ],
   "source": [
    "shirt = os.listdir(os.path.join(folder, \"train\", \"0\"))\n",
    "shirt[0]"
   ]
  },
  {
   "cell_type": "code",
   "execution_count": 5,
   "id": "f1db0d0c",
   "metadata": {},
   "outputs": [],
   "source": [
    "def prepare_dataset(path:str, dataset:str):\n",
    "    label = os.listdir(os.path.join(path, dataset))\n",
    "    X = []\n",
    "    y = []\n",
    "    for lbl in label:\n",
    "        for file in os.listdir(os.path.join(path, dataset, lbl)):\n",
    "             try:  \n",
    "                image = np.array(Image.open(os.path.join(path,dataset, lbl, file)))\n",
    "                X.append(image/255)\n",
    "                y.append(lbl)\n",
    "             except:\n",
    "                continue\n",
    "    return np.array(X), np.array(y).astype(\"uint8\")"
   ]
  },
  {
   "cell_type": "code",
   "execution_count": 6,
   "id": "5ce14b10",
   "metadata": {},
   "outputs": [],
   "source": [
    "def create_dataset(path:str):\n",
    "    X_train, y_train = prepare_dataset(path, \"train\")\n",
    "    X_test, y_test = prepare_dataset(path, \"test\")\n",
    "    return X_train.reshape(-1, 28*28), y_train, X_test.reshape(-1, 28 *28), y_test"
   ]
  },
  {
   "cell_type": "code",
   "execution_count": 7,
   "id": "ef07fc06",
   "metadata": {},
   "outputs": [],
   "source": [
    "X_train, y_train, X_test, y_test = create_dataset(folder)"
   ]
  },
  {
   "cell_type": "code",
   "execution_count": 8,
   "id": "6f4f4d86",
   "metadata": {},
   "outputs": [],
   "source": [
    "def shuffle_batch(image, label, batch):\n",
    "    key = np.array(range(image.shape[0]))\n",
    "    np.random.shuffle(key)\n",
    "    image = image[key]\n",
    "    label = label[key]\n",
    "    image_batch = np.array_split(image, batch)\n",
    "    label_batch = np.array_split(label, batch)\n",
    "    return image_batch, label_batch"
   ]
  },
  {
   "cell_type": "code",
   "execution_count": 22,
   "id": "35d7dc34",
   "metadata": {},
   "outputs": [],
   "source": [
    "d = X_test//2"
   ]
  },
  {
   "cell_type": "code",
   "execution_count": 25,
   "id": "c0cc8505",
   "metadata": {},
   "outputs": [
    {
     "data": {
      "text/plain": [
       "((10000, 784), (10000, 784))"
      ]
     },
     "execution_count": 25,
     "metadata": {},
     "output_type": "execute_result"
    }
   ],
   "source": [
    "d.shape, X_test.shape"
   ]
  },
  {
   "cell_type": "code",
   "execution_count": 15,
   "id": "b20245d2",
   "metadata": {},
   "outputs": [],
   "source": [
    "train_batch_image, train_batch_label = shuffle_batch(X_train, y_train,320)\n",
    "test_batch_image, test_batch_label = shuffle_batch(X_test, y_test, 320)"
   ]
  },
  {
   "cell_type": "code",
   "execution_count": null,
   "id": "cdcad4b7",
   "metadata": {},
   "outputs": [],
   "source": [
    "def adjest_train(train_batch_img, train_batch_lbl, test_batch_img, test_batch_lbl,* , epochs , print_every, validation_data = ()):\n",
    "    for (tr_img, tr_lbl), (te_img, te_lbl) in zip(zip(train_batch_img, train_batch_lbl),zip(test_batch_img, test_batch_lbl)):\n",
    "        model.train(tr_img, tr_lbl, epochs, print_every, validation_data=dation_data = (te_img,te_lbl))"
   ]
  }
 ],
 "metadata": {
  "kernelspec": {
   "display_name": "Python 3 (ipykernel)",
   "language": "python",
   "name": "python3"
  },
  "language_info": {
   "codemirror_mode": {
    "name": "ipython",
    "version": 3
   },
   "file_extension": ".py",
   "mimetype": "text/x-python",
   "name": "python",
   "nbconvert_exporter": "python",
   "pygments_lexer": "ipython3",
   "version": "3.11.5"
  }
 },
 "nbformat": 4,
 "nbformat_minor": 5
}
