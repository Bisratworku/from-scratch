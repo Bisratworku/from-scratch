{
 "cells": [
  {
   "cell_type": "code",
   "execution_count": 9,
   "id": "96759e59",
   "metadata": {},
   "outputs": [],
   "source": [
    "from scratch import *\n",
    "import random\n",
    "import numpy as np\n",
    "import matplotlib.pyplot as plt\n",
    "import os\n",
    "from PIL import Image"
   ]
  },
  {
   "cell_type": "code",
   "execution_count": 10,
   "id": "09164a03",
   "metadata": {},
   "outputs": [
    {
     "data": {
      "text/plain": [
       "'datasets\\\\fashion_mnist_images'"
      ]
     },
     "execution_count": 10,
     "metadata": {},
     "output_type": "execute_result"
    }
   ],
   "source": [
    "folder = \"datasets\\\\fashion_mnist_images\"\n",
    "folder"
   ]
  },
  {
   "cell_type": "code",
   "execution_count": 11,
   "id": "329cca94",
   "metadata": {},
   "outputs": [
    {
     "data": {
      "text/plain": [
       "['0', '1', '2', '3', '4', '5', '6', '7', '8', '9']"
      ]
     },
     "execution_count": 11,
     "metadata": {},
     "output_type": "execute_result"
    }
   ],
   "source": [
    "label = os.listdir(os.path.join(folder, \"train\"))\n",
    "label"
   ]
  },
  {
   "cell_type": "code",
   "execution_count": 12,
   "id": "efe88256",
   "metadata": {},
   "outputs": [
    {
     "data": {
      "text/plain": [
       "'0000.png'"
      ]
     },
     "execution_count": 12,
     "metadata": {},
     "output_type": "execute_result"
    }
   ],
   "source": [
    "shirt = os.listdir(os.path.join(folder, \"train\", \"0\"))\n",
    "shirt[0]"
   ]
  },
  {
   "cell_type": "code",
   "execution_count": 13,
   "id": "f1db0d0c",
   "metadata": {},
   "outputs": [],
   "source": [
    "def prepare_dataset(path:str, dataset:str):\n",
    "    label = os.listdir(os.path.join(path, dataset))\n",
    "    X = []\n",
    "    y = []\n",
    "    for lbl in label:\n",
    "        for file in os.listdir(os.path.join(path, dataset, lbl)):\n",
    "             try:  \n",
    "                image = np.array(Image.open(os.path.join(path,dataset, lbl, file)))\n",
    "                X.append(image/255)\n",
    "                y.append(lbl)\n",
    "             except:\n",
    "                continue\n",
    "    return np.array(X), np.array(y).astype(\"uint8\")"
   ]
  },
  {
   "cell_type": "code",
   "execution_count": 30,
   "id": "5ce14b10",
   "metadata": {},
   "outputs": [],
   "source": [
    "def create_dataset(path:str):\n",
    "    X_train, y_train = prepare_dataset(path, \"train\")\n",
    "    X_test, y_test = prepare_dataset(path, \"test\")\n",
    "    return X_train.reshape(-1, 28*28), y_train, X_test.reshape(-1, 28 *28), y_test"
   ]
  },
  {
   "cell_type": "code",
   "execution_count": 31,
   "id": "ef07fc06",
   "metadata": {},
   "outputs": [],
   "source": [
    "X_train, y_train, X_test, y_test = create_dataset(folder)"
   ]
  },
  {
   "cell_type": "code",
   "execution_count": 96,
   "id": "6f4f4d86",
   "metadata": {},
   "outputs": [],
   "source": [
    "def shuffle_batch(image, label, batch):\n",
    "    key = np.array(range(image.shape[0]))\n",
    "    np.random.shuffle(key)\n",
    "    image = image[key]\n",
    "    label = label[key]\n",
    "    image_batch = np.array_split(image, batch)\n",
    "    label_batch = np.array_split(label, batch)\n",
    "    return image_batch, label_batch"
   ]
  },
  {
   "cell_type": "code",
   "execution_count": 97,
   "id": "b20245d2",
   "metadata": {},
   "outputs": [],
   "source": [
    "train_batch_image, train_batch_label = shuffle_batch(X_train, y_train,32)\n",
    "test_batch_image, test_batch_label = shuffle_batch(X_test, y_test, 1)"
   ]
  },
  {
   "cell_type": "code",
   "execution_count": 101,
   "id": "13c3626f",
   "metadata": {},
   "outputs": [
    {
     "name": "stdout",
     "output_type": "stream",
     "text": [
      "epoch: 1000, acc: 1.000, loss: 0.000 (data_loss: 0.000, reg_loss: 0.000), lr: 0.0005002501250625312\n",
      "epoch: 2000, acc: 1.000, loss: 0.000 (data_loss: 0.000, reg_loss: 0.000), lr: 0.00033344448149383126\n",
      "epoch: 3000, acc: 1.000, loss: 0.000 (data_loss: 0.000, reg_loss: 0.000), lr: 0.00025006251562890725\n",
      "epoch: 4000, acc: 1.000, loss: 0.000 (data_loss: 0.000, reg_loss: 0.000), lr: 0.0002000400080016003\n",
      "epoch: 5000, acc: 1.000, loss: 0.000 (data_loss: 0.000, reg_loss: 0.000), lr: 0.00016669444907484583\n",
      "epoch: 6000, acc: 1.000, loss: 0.000 (data_loss: 0.000, reg_loss: 0.000), lr: 0.00014287755393627662\n",
      "epoch: 7000, acc: 1.000, loss: 0.000 (data_loss: 0.000, reg_loss: 0.000), lr: 0.00012501562695336915\n",
      "epoch: 8000, acc: 1.000, loss: 0.000 (data_loss: 0.000, reg_loss: 0.000), lr: 0.000111123458162018\n",
      "epoch: 9000, acc: 1.000, loss: 0.000 (data_loss: 0.000, reg_loss: 0.000), lr: 0.00010001000100010001\n",
      "epoch: 10000, acc: 1.000, loss: 0.000 (data_loss: 0.000, reg_loss: 0.000), lr: 9.091735612328394e-05\n",
      "validation, acc: 0.809, loss: 1.807\n"
     ]
    }
   ],
   "source": [
    "model = Model()\n",
    "model.add(Layer_Dense(28*28, 500))\n",
    "model.add(Activation_ReLU())\n",
    "model.add(Layer_Dense(500,500))\n",
    "model.add(Activation_ReLU())\n",
    "model.add(Layer_Dense(500,10))\n",
    "model.add(Activation_Softmax())\n",
    "model.set(\n",
    "    loss = Loss_CategoricalCrossentropy(),\n",
    "    optimizer = Optimizer_Adam(decay = 1e-3),\n",
    "    accuracy = Accuracy_Categorical()\n",
    ")\n",
    "model.finalize()\n",
    "for (tr_img, tr_lbl),(te_img, te_lbl) in zip(zip(train_batch_image,train_batch_label),\n",
    "                                             zip(test_batch_image, test_batch_label)):\n",
    "    model.train(tr_img, tr_lbl, epochs = 10000, print_every = 1000, validation_data = (te_img, te_lbl) )"
   ]
  }
 ],
 "metadata": {
  "kernelspec": {
   "display_name": "Python 3 (ipykernel)",
   "language": "python",
   "name": "python3"
  },
  "language_info": {
   "codemirror_mode": {
    "name": "ipython",
    "version": 3
   },
   "file_extension": ".py",
   "mimetype": "text/x-python",
   "name": "python",
   "nbconvert_exporter": "python",
   "pygments_lexer": "ipython3",
   "version": "3.11.5"
  }
 },
 "nbformat": 4,
 "nbformat_minor": 5
}
