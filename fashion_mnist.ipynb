{
 "cells": [
  {
   "cell_type": "code",
   "execution_count": null,
   "id": "96759e59",
   "metadata": {},
   "outputs": [],
   "source": [
    "from scratch import *\n",
    "import random\n",
    "import numpy as np\n",
    "import cv2\n",
    "import matplotlib.pyplot as plt\n",
    "import os"
   ]
  },
  {
   "cell_type": "code",
   "execution_count": null,
   "id": "09164a03",
   "metadata": {},
   "outputs": [],
   "source": [
    "folder = \"datasets\\\\fashion_mnist_images\"\n",
    "folder"
   ]
  },
  {
   "cell_type": "code",
   "execution_count": null,
   "id": "329cca94",
   "metadata": {},
   "outputs": [],
   "source": [
    "label = os.listdir(os.path.join(folder, \"train\"))\n",
    "label"
   ]
  },
  {
   "cell_type": "code",
   "execution_count": null,
   "id": "efe88256",
   "metadata": {},
   "outputs": [],
   "source": [
    "shirt = os.listdir(os.path.join(folder, \"train\", \"0\"))\n",
    "shirt[0]"
   ]
  },
  {
   "cell_type": "code",
   "execution_count": null,
   "id": "dd27f35c",
   "metadata": {},
   "outputs": [],
   "source": [
    "image = cv2.imread(os.path.join(folder, \"train\", \"0\", \"0000.png\"), cv2.IMREAD_UNCHANGED)"
   ]
  },
  {
   "cell_type": "code",
   "execution_count": null,
   "id": "1319a19e",
   "metadata": {},
   "outputs": [],
   "source": [
    "plt.imshow(image)\n",
    "plt.show()"
   ]
  },
  {
   "cell_type": "code",
   "execution_count": null,
   "id": "60ad50fe",
   "metadata": {},
   "outputs": [],
   "source": [
    "def pripare_dataset(path : str, dataset : str):\n",
    "    data = []\n",
    "    labler = []\n",
    "    label = os.listdir(os.path.join(path, dataset))\n",
    "    for labels in label:\n",
    "        for file in os.listdir(os.path.join(folder, dataset, labels)):\n",
    "            image = cv2.imread(os.path.join(folder, dataset, labels,file), cv2.IMREAD_UNCHANGED)\n",
    "            # normalizing the data because numpy is a bitch and don't let me convert list into numpy array\n",
    "            # after the normalizing the maximum value will be 1 and the minimum will be -1 \n",
    "            data.append((np.array(image).astype(np.float32) - (255/2))/(255/2))\n",
    "            labler.append(labels)\n",
    "    return data, np.array(labler).astype(\"uint8\")"
   ]
  },
  {
   "cell_type": "code",
   "execution_count": null,
   "id": "af420abe",
   "metadata": {},
   "outputs": [],
   "source": [
    "def create_dataset(path:str):\n",
    "    X_train, y_train = pripare_dataset(path, \"train\")\n",
    "    X_test, y_test = pripare_dataset(path, \"test\")\n",
    "    return X_train, y_train, X_test, y_test"
   ]
  },
  {
   "cell_type": "code",
   "execution_count": null,
   "id": "7d4bc378",
   "metadata": {},
   "outputs": [],
   "source": [
    "X_train, y_train, X_test, y_test = create_dataset(folder)"
   ]
  },
  {
   "cell_type": "code",
   "execution_count": 74,
   "id": "7e9fdb00",
   "metadata": {},
   "outputs": [
    {
     "data": {
      "text/plain": [
       "<matplotlib.image.AxesImage at 0x202660a3e50>"
      ]
     },
     "execution_count": 74,
     "metadata": {},
     "output_type": "execute_result"
    },
    {
     "data": {
      "image/png": "[encoded data removed]",
      "text/plain": [
       "<Figure size 640x480 with 1 Axes>"
      ]
     },
     "metadata": {},
     "output_type": "display_data"
    }
   ],
   "source": [
    "plt.imshow(X_train[34000], cmap = \"gray\")"
   ]
  },
  {
   "cell_type": "code",
   "execution_count": 91,
   "id": "ebfef434",
   "metadata": {},
   "outputs": [
    {
     "data": {
      "text/plain": [
       "(1, 2)"
      ]
     },
     "execution_count": 91,
     "metadata": {},
     "output_type": "execute_result"
    }
   ],
   "source": [
    "def shuffle_batch(X,y, batch : int = 1):\n",
    "    dataset = list(zip(X,y))\n",
    "    randomized_dataset = np.random.shuffle(dataset)\n",
    "    batched_dataset"
   ]
  },
  {
   "cell_type": "code",
   "execution_count": null,
   "id": "ee802a86",
   "metadata": {},
   "outputs": [],
   "source": []
  }
 ],
 "metadata": {
  "kernelspec": {
   "display_name": "Python 3 (ipykernel)",
   "language": "python",
   "name": "python3"
  },
  "language_info": {
   "codemirror_mode": {
    "name": "ipython",
    "version": 3
   },
   "file_extension": ".py",
   "mimetype": "text/x-python",
   "name": "python",
   "nbconvert_exporter": "python",
   "pygments_lexer": "ipython3",
   "version": "3.11.5"
  }
 },
 "nbformat": 4,
 "nbformat_minor": 5
}
