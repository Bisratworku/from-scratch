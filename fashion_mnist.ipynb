{
 "cells": [
  {
   "cell_type": "code",
   "execution_count": 2,
   "id": "96759e59",
   "metadata": {},
   "outputs": [],
   "source": [
    "from scratch import *\n",
    "import random\n",
    "import numpy as np\n",
    "import matplotlib.pyplot as plt\n",
    "import os\n",
    "from PIL import Image"
   ]
  },
  {
   "cell_type": "code",
   "execution_count": 3,
   "id": "09164a03",
   "metadata": {},
   "outputs": [
    {
     "data": {
      "text/plain": [
       "'datasets\\\\fashion_mnist_images'"
      ]
     },
     "execution_count": 3,
     "metadata": {},
     "output_type": "execute_result"
    }
   ],
   "source": [
    "folder = \"datasets\\\\fashion_mnist_images\"\n",
    "folder"
   ]
  },
  {
   "cell_type": "code",
   "execution_count": 4,
   "id": "329cca94",
   "metadata": {},
   "outputs": [
    {
     "data": {
      "text/plain": [
       "['0', '1', '2', '3', '4', '5', '6', '7', '8', '9']"
      ]
     },
     "execution_count": 4,
     "metadata": {},
     "output_type": "execute_result"
    }
   ],
   "source": [
    "label = os.listdir(os.path.join(folder, \"train\"))\n",
    "label"
   ]
  },
  {
   "cell_type": "code",
   "execution_count": 5,
   "id": "efe88256",
   "metadata": {},
   "outputs": [
    {
     "data": {
      "text/plain": [
       "'0000.png'"
      ]
     },
     "execution_count": 5,
     "metadata": {},
     "output_type": "execute_result"
    }
   ],
   "source": [
    "shirt = os.listdir(os.path.join(folder, \"train\", \"0\"))\n",
    "shirt[0]"
   ]
  },
  {
   "cell_type": "code",
   "execution_count": 7,
   "id": "f1db0d0c",
   "metadata": {},
   "outputs": [],
   "source": [
    "def prepare_dataset(path:str, dataset:str):\n",
    "    label = os.listdir(os.path.join(path, dataset))\n",
    "    X = []\n",
    "    y = []\n",
    "    for lbl in label:\n",
    "        for file in os.listdir(os.path.join(path, dataset, lbl)):\n",
    "             try:  \n",
    "                image = np.array(Image.open(os.path.join(path,dataset, lbl, file)))\n",
    "                X.append(image/255)\n",
    "                y.append(lbl)\n",
    "             except:\n",
    "                continue\n",
    "    return np.array(X), np.array(y).astype(\"uint8\")"
   ]
  },
  {
   "cell_type": "code",
   "execution_count": 8,
   "id": "5ce14b10",
   "metadata": {},
   "outputs": [],
   "source": [
    "def create_dataset(path:str):\n",
    "    X_train, y_train = prepare_dataset(path, \"train\")\n",
    "    X_test, y_test = prepare_dataset(path, \"test\")\n",
    "    return X_train.reshape(-1, 28*28), y_train, X_test.reshape(-1, 28 *28), y_test"
   ]
  },
  {
   "cell_type": "code",
   "execution_count": 9,
   "id": "ef07fc06",
   "metadata": {},
   "outputs": [],
   "source": [
    "X_train, y_train, X_test, y_test = create_dataset(folder)"
   ]
  },
  {
   "cell_type": "code",
   "execution_count": 48,
   "id": "6f4f4d86",
   "metadata": {},
   "outputs": [],
   "source": [
    "def shuffle_batch(image, label, batch):\n",
    "    key = np.array(range(image.shape[0]))\n",
    "    np.random.shuffle(key)\n",
    "    image = image[key]\n",
    "    label = label[key]\n",
    "    img_split = np.array_split(image, batch)\n",
    "    lbl_split = np.array_split(label, batch)\n",
    "    return img_split, lbl_split"
   ]
  },
  {
   "cell_type": "code",
   "execution_count": 49,
   "id": "ffc0ce0c",
   "metadata": {},
   "outputs": [],
   "source": [
    "train_batch_image , train_batch_label = shuffle_batch(X_train, y_train, 120)\n",
    "test_batch_image, test_batch_label = shuffle_batch(X_test, y_test, 120)"
   ]
  },
  {
   "cell_type": "code",
   "execution_count": 56,
   "id": "66c2c679",
   "metadata": {},
   "outputs": [],
   "source": [
    "i = np.random.randn(100, 2)\n",
    "j = np.random.randint(0,1, 100)\n",
    "l = np.random.randn(50,2)\n",
    "k = np.random.randint(0,1,50)"
   ]
  },
  {
   "cell_type": "code",
   "execution_count": 57,
   "id": "dcd90c53",
   "metadata": {},
   "outputs": [
    {
     "name": "stdout",
     "output_type": "stream",
     "text": [
      "Epoches = 1,  Loss = 0.843, Learning_rate = 0.001, Acc = 0.580\n",
      "Epoches = 2,  Loss = 0.797, Learning_rate = 0.001, Acc = 0.980\n",
      "Epoches = 3,  Loss = 0.757, Learning_rate = 0.001, Acc = 1.000\n",
      "Epoches = 4,  Loss = 0.716, Learning_rate = 0.001, Acc = 1.000\n",
      "Epoches = 5,  Loss = 0.681, Learning_rate = 0.001, Acc = 1.000\n",
      "Epoches = 6,  Loss = 0.644, Learning_rate = 0.001, Acc = 1.000\n",
      "Epoches = 7,  Loss = 0.605, Learning_rate = 0.001, Acc = 1.000\n",
      "Epoches = 8,  Loss = 0.570, Learning_rate = 0.001, Acc = 1.000\n",
      "Epoches = 9,  Loss = 0.537, Learning_rate = 0.001, Acc = 1.000\n",
      "Epoches = 10,  Loss = 0.504, Learning_rate = 0.001, Acc = 1.000\n",
      "Validation result\n",
      "Loss = 0.488, Accuracy = 0.000\n"
     ]
    }
   ],
   "source": [
    "m = model()\n",
    "m.add(Layer_Dense(2,120, weight_regularizer_l2 = 0.001, bias_regularizer_l2 = 0.001))\n",
    "m.add(Activation_ReLU())\n",
    "m.add(Layer_Dropout(0.2))\n",
    "m.add(Layer_Dense(120,120, weight_regularizer_l2 = 0.001, bias_regularizer_l2 = 0.001))\n",
    "m.add(Activation_ReLU())\n",
    "m.add(Layer_Dense(120,120))\n",
    "m.add(Activation_ReLU())\n",
    "m.add(Layer_Dense(120,2))\n",
    "m.add(Activation_Softmax())\n",
    "m.set(    loss = Loss_CategoricalCrossentropy(),optimizer = Optimizer_Adam(decay = 1e-4))\n",
    "m.train(i, j, epoches = 10, val_data = (l, k))\n",
    "\n"
   ]
  },
  {
   "cell_type": "code",
   "execution_count": null,
   "id": "9e4f8e5d",
   "metadata": {},
   "outputs": [],
   "source": []
  }
 ],
 "metadata": {
  "kernelspec": {
   "display_name": "Python 3 (ipykernel)",
   "language": "python",
   "name": "python3"
  },
  "language_info": {
   "codemirror_mode": {
    "name": "ipython",
    "version": 3
   },
   "file_extension": ".py",
   "mimetype": "text/x-python",
   "name": "python",
   "nbconvert_exporter": "python",
   "pygments_lexer": "ipython3",
   "version": "3.11.5"
  }
 },
 "nbformat": 4,
 "nbformat_minor": 5
}
